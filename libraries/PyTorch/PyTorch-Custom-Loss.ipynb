{
 "cells": [
  {
   "cell_type": "code",
   "execution_count": 262,
   "metadata": {},
   "outputs": [],
   "source": [
    "import torch\n",
    "import torch.nn\n",
    "import torch.nn.functional as F"
   ]
  },
  {
   "cell_type": "markdown",
   "metadata": {},
   "source": [
    "# nn.Module"
   ]
  },
  {
   "cell_type": "code",
   "execution_count": 55,
   "metadata": {},
   "outputs": [],
   "source": [
    "class BB(nn.Module):\n",
    "    def __init__(self):\n",
    "        super(BB, self).__init__()\n",
    "        \n",
    "    def forward(self, x): \n",
    "        return torch.cat((x,x))"
   ]
  },
  {
   "cell_type": "code",
   "execution_count": 128,
   "metadata": {},
   "outputs": [],
   "source": [
    "class H(nn.Module):\n",
    "    def __init__(self):\n",
    "        super(H, self).__init__()\n",
    "        self.w = torch.randn((10,2), requires_grad=True)\n",
    "    def forward(self, x):\n",
    "        return torch.flatten(torch.matmul(x, self.w))"
   ]
  },
  {
   "cell_type": "code",
   "execution_count": 129,
   "metadata": {},
   "outputs": [],
   "source": [
    "bb = BB()\n",
    "h  = H()"
   ]
  },
  {
   "cell_type": "code",
   "execution_count": 130,
   "metadata": {},
   "outputs": [],
   "source": [
    "x = torch.randn((1, 10))"
   ]
  },
  {
   "cell_type": "code",
   "execution_count": 131,
   "metadata": {},
   "outputs": [],
   "source": [
    "a1 = bb(x)"
   ]
  },
  {
   "cell_type": "code",
   "execution_count": 132,
   "metadata": {},
   "outputs": [],
   "source": [
    "a2 = h(a1)"
   ]
  },
  {
   "cell_type": "code",
   "execution_count": 133,
   "metadata": {},
   "outputs": [
    {
     "data": {
      "text/plain": [
       "torch.Size([4])"
      ]
     },
     "execution_count": 133,
     "metadata": {},
     "output_type": "execute_result"
    }
   ],
   "source": [
    "a2.shape"
   ]
  },
  {
   "cell_type": "code",
   "execution_count": 134,
   "metadata": {},
   "outputs": [],
   "source": [
    "def loss(y, y_hat): return torch.sum((y-y_hat)**2)"
   ]
  },
  {
   "cell_type": "code",
   "execution_count": 135,
   "metadata": {},
   "outputs": [],
   "source": [
    "l = loss(a2, torch.randn((4))) "
   ]
  },
  {
   "cell_type": "code",
   "execution_count": 136,
   "metadata": {},
   "outputs": [],
   "source": [
    "l.backward()"
   ]
  },
  {
   "cell_type": "code",
   "execution_count": 139,
   "metadata": {},
   "outputs": [
    {
     "data": {
      "text/plain": [
       "tensor([[  8.2700,  -0.8345],\n",
       "        [-14.7763,   1.4909],\n",
       "        [  7.9935,  -0.8066],\n",
       "        [ -3.3582,   0.3388],\n",
       "        [ -7.9766,   0.8048],\n",
       "        [  5.5956,  -0.5646],\n",
       "        [  2.3606,  -0.2382],\n",
       "        [ 13.1206,  -1.3239],\n",
       "        [ 13.4634,  -1.3585],\n",
       "        [ 12.2386,  -1.2349]])"
      ]
     },
     "execution_count": 139,
     "metadata": {},
     "output_type": "execute_result"
    }
   ],
   "source": [
    "h.w.grad"
   ]
  },
  {
   "cell_type": "markdown",
   "metadata": {},
   "source": [
    "# * Output"
   ]
  },
  {
   "cell_type": "code",
   "execution_count": 620,
   "metadata": {},
   "outputs": [],
   "source": [
    "class C3(nn.Module):\n",
    "    def __init__(self):\n",
    "        super(C3, self).__init__()\n",
    "        self.l = nn.Linear(512, 10)\n",
    "    def forward(self, x):\n",
    "        x = self.l(x)\n",
    "        a1 = F.softmax(x[:4], dim=0)\n",
    "        a2 = F.softmax(x[4:], dim=0)\n",
    "        return torch.cat((a1,a2))"
   ]
  },
  {
   "cell_type": "code",
   "execution_count": 621,
   "metadata": {},
   "outputs": [],
   "source": [
    "c3 = C3()"
   ]
  },
  {
   "cell_type": "code",
   "execution_count": 622,
   "metadata": {},
   "outputs": [
    {
     "data": {
      "text/plain": [
       "tensor([0.2169, 0.0682, 0.6247, 0.0902, 0.1864, 0.0915, 0.3552, 0.1695, 0.0571,\n",
       "        0.1402], grad_fn=<CatBackward>)"
      ]
     },
     "execution_count": 622,
     "metadata": {},
     "output_type": "execute_result"
    }
   ],
   "source": [
    "y = c3(torch.randn(512))\n",
    "y"
   ]
  },
  {
   "cell_type": "markdown",
   "metadata": {},
   "source": [
    "# Custom Loss\n",
    "\n",
    "### MSE + CE Loss"
   ]
  },
  {
   "cell_type": "code",
   "execution_count": 612,
   "metadata": {},
   "outputs": [],
   "source": [
    "n_c = 5\n",
    "n_b = 4"
   ]
  },
  {
   "cell_type": "code",
   "execution_count": 613,
   "metadata": {},
   "outputs": [
    {
     "data": {
      "text/plain": [
       "tensor([[0.2208, 0.3098, 0.2643, 0.0511, 0.1540],\n",
       "        [0.4999, 0.0817, 0.1952, 0.1484, 0.0747],\n",
       "        [0.4241, 0.1652, 0.1107, 0.0211, 0.2789],\n",
       "        [0.7595, 0.0658, 0.0388, 0.1123, 0.0237]])"
      ]
     },
     "execution_count": 613,
     "metadata": {},
     "output_type": "execute_result"
    }
   ],
   "source": [
    "i = F.softmax(torch.randn((n_b,n_c)), dim=1)\n",
    "i"
   ]
  },
  {
   "cell_type": "code",
   "execution_count": 614,
   "metadata": {},
   "outputs": [
    {
     "data": {
      "text/plain": [
       "tensor([1, 2, 0, 3])"
      ]
     },
     "execution_count": 614,
     "metadata": {},
     "output_type": "execute_result"
    }
   ],
   "source": [
    "t = torch.Tensor([1, 2, 0, 3]).type(torch.long)\n",
    "t"
   ]
  },
  {
   "cell_type": "code",
   "execution_count": 615,
   "metadata": {},
   "outputs": [],
   "source": [
    "def loss(i, t):\n",
    "    i1 = i[:3,:]\n",
    "    i2 = i[3:,:]\n",
    "    t1 = t[:3]\n",
    "    t2 = t[3:]\n",
    "    ce  = F.cross_entropy(i1, t1)\n",
    "    tt2 = torch.zeros(5)\n",
    "    tt2[t2] = 1\n",
    "    i2 = torch.squeeze(i2)\n",
    "    print(tt2.shape)\n",
    "    print(i2.shape)\n",
    "    mse = F.mse_loss(tt2, i2)\n",
    "    return ce + mse"
   ]
  },
  {
   "cell_type": "code",
   "execution_count": 616,
   "metadata": {},
   "outputs": [
    {
     "name": "stdout",
     "output_type": "stream",
     "text": [
      "torch.Size([5])\n",
      "torch.Size([5])\n"
     ]
    }
   ],
   "source": [
    "l = loss(i, t)"
   ]
  },
  {
   "cell_type": "code",
   "execution_count": 609,
   "metadata": {},
   "outputs": [
    {
     "data": {
      "text/plain": [
       "tensor(2.0251)"
      ]
     },
     "execution_count": 609,
     "metadata": {},
     "output_type": "execute_result"
    }
   ],
   "source": [
    "l"
   ]
  }
 ],
 "metadata": {
  "kernelspec": {
   "display_name": "Python 3",
   "language": "python",
   "name": "python3"
  },
  "language_info": {
   "codemirror_mode": {
    "name": "ipython",
    "version": 3
   },
   "file_extension": ".py",
   "mimetype": "text/x-python",
   "name": "python",
   "nbconvert_exporter": "python",
   "pygments_lexer": "ipython3",
   "version": "3.6.9"
  }
 },
 "nbformat": 4,
 "nbformat_minor": 4
}
