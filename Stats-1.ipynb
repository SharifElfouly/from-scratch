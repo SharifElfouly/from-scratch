{
 "cells": [
  {
   "cell_type": "code",
   "execution_count": 11,
   "metadata": {},
   "outputs": [],
   "source": [
    "import numpy as np\n",
    "import matplotlib.pyplot as plt"
   ]
  },
  {
   "cell_type": "markdown",
   "metadata": {},
   "source": [
    "## Very simple statistics concepst from scratch\n",
    "- mean\n",
    "- variance\n",
    "- standard deviation\n",
    "- covariance\n",
    "- correlation coefficient"
   ]
  },
  {
   "cell_type": "markdown",
   "metadata": {},
   "source": [
    "## Create 2D points between -5 and 5"
   ]
  },
  {
   "cell_type": "code",
   "execution_count": 12,
   "metadata": {},
   "outputs": [
    {
     "data": {
      "text/plain": [
       "(40, 2)"
      ]
     },
     "execution_count": 12,
     "metadata": {},
     "output_type": "execute_result"
    }
   ],
   "source": [
    "a = np.random.uniform(-5, 5, size=(40,2))\n",
    "a.shape"
   ]
  },
  {
   "cell_type": "code",
   "execution_count": 13,
   "metadata": {},
   "outputs": [
    {
     "data": {
      "text/plain": [
       "<matplotlib.collections.PathCollection at 0x7f8fc50dcb00>"
      ]
     },
     "execution_count": 13,
     "metadata": {},
     "output_type": "execute_result"
    },
    {
     "data": {
      "image/png": "[encoded data removed]",
      "text/plain": [
       "<Figure size 432x288 with 1 Axes>"
      ]
     },
     "metadata": {
      "needs_background": "light"
     },
     "output_type": "display_data"
    }
   ],
   "source": [
    "plt.scatter(a[:,0], a[:,1])"
   ]
  },
  {
   "cell_type": "code",
   "execution_count": 14,
   "metadata": {},
   "outputs": [],
   "source": [
    "x = a[:,0]\n",
    "y = a[:,1]"
   ]
  },
  {
   "cell_type": "code",
   "execution_count": 15,
   "metadata": {},
   "outputs": [],
   "source": [
    "def eq(x1, x2):   return x1 - x2 < 1e5\n",
    "def eq_m(m1, m2): return np.allclose(m1, m2, atol=1e-5)"
   ]
  },
  {
   "cell_type": "markdown",
   "metadata": {},
   "source": [
    "## Arithmetic Mean\n",
    "\n",
    "Also expected value or average.\n",
    "\n",
    "$\\bar{x} = \\frac{1}{n}\\left (\\sum_{i=1}^n{x_i}\\right ) = \\frac{x_1+x_2+\\cdots +x_n}{n}$"
   ]
  },
  {
   "cell_type": "code",
   "execution_count": 16,
   "metadata": {},
   "outputs": [],
   "source": [
    "def mean(x): return sum(x) / len(x)"
   ]
  },
  {
   "cell_type": "code",
   "execution_count": 17,
   "metadata": {},
   "outputs": [],
   "source": [
    "x_hat = mean(x)\n",
    "assert eq(x_hat, x.mean())\n",
    "\n",
    "y_hat = mean(y)\n",
    "assert eq(y_hat, y.mean())"
   ]
  },
  {
   "cell_type": "markdown",
   "metadata": {},
   "source": [
    "## Variance\n",
    "\n",
    "How far away are the points on average from the mean.\n",
    "\n",
    "Often represented by $\\sigma^2, s^2, \\operatorname{Var}(X)$\n",
    "\n",
    "$\\operatorname{Var}(X) = \\frac{1}{n} \\sum_{i=1}^n (x_i - \\mu)^2$"
   ]
  },
  {
   "cell_type": "code",
   "execution_count": 18,
   "metadata": {},
   "outputs": [],
   "source": [
    "def var(x):\n",
    "    x_hat = mean(x)\n",
    "    s = 0\n",
    "    for i in x: s += (x_hat - i)**2\n",
    "    return s / len(x)"
   ]
  },
  {
   "cell_type": "code",
   "execution_count": 19,
   "metadata": {},
   "outputs": [],
   "source": [
    "x_var = var(x)\n",
    "assert eq(x_var, x.var())\n",
    "\n",
    "y_var = var(y)\n",
    "assert eq(y_var, y.var())"
   ]
  },
  {
   "cell_type": "markdown",
   "metadata": {},
   "source": [
    "## Standard Deviation\n",
    "\n",
    "Is the square root of the variance.\n",
    "\n",
    "A useful property of the standard deviation is that, unlike the variance, it is expressed in the same units as the data. \n",
    "\n",
    "$\\sigma = \\sqrt{\\frac{1}{N}\\sum_{i=1}^N (x_i - \\bar{x})^2 }$"
   ]
  },
  {
   "cell_type": "code",
   "execution_count": 20,
   "metadata": {},
   "outputs": [],
   "source": [
    "def std(x): return var(x)**(1/2)"
   ]
  },
  {
   "cell_type": "code",
   "execution_count": 21,
   "metadata": {},
   "outputs": [],
   "source": [
    "x_sigma = std(x)\n",
    "assert eq(x_sigma, x.std())\n",
    "\n",
    "y_sigma = std(y)\n",
    "assert eq(y_sigma, y.std())"
   ]
  },
  {
   "cell_type": "markdown",
   "metadata": {},
   "source": [
    "## Covariance\n",
    "\n",
    "Is a measure of the joint variability of two variables.\n",
    "\n",
    "The magnitude of the covariance is not easy to interpret because it is not normalized and hence depends on the magnitudes of the variables.\n",
    "\n",
    "For the intuition: https://www.youtube.com/watch?v=KDw3hC2YNFc\n",
    "\n",
    "$\\operatorname{cov} (X,Y)=\\frac{1}{n}\\sum_{i=1}^n (x_i-E(X))(y_i-E(Y))$"
   ]
  },
  {
   "cell_type": "code",
   "execution_count": 22,
   "metadata": {},
   "outputs": [],
   "source": [
    "def cov(x1, x2):\n",
    "    s = 0\n",
    "    for i, j in zip(x1, x2): s += (i-mean(x1))*(j-mean(x2))\n",
    "    return s/len(x1)"
   ]
  },
  {
   "cell_type": "code",
   "execution_count": 23,
   "metadata": {},
   "outputs": [],
   "source": [
    "assert eq(cov(x,y), np.cov(a.T, ddof=0)[0,1])\n",
    "assert eq(cov(x,y), np.cov(a.T, ddof=0)[1,0])"
   ]
  },
  {
   "cell_type": "markdown",
   "metadata": {},
   "source": [
    "## Covariance Matrix\n",
    "\n",
    "Is a square matrix giving the covariance between each pair of elements of a given random vector. In the matrix diagonal there are variances, the covariance of each element with itself. "
   ]
  },
  {
   "cell_type": "code",
   "execution_count": 24,
   "metadata": {},
   "outputs": [],
   "source": [
    "def cov_m(x1, x2):\n",
    "    return [[cov(x1,x1), cov(x1,x2)],\n",
    "            [cov(x2,x1), cov(x2,x2)]]"
   ]
  },
  {
   "cell_type": "code",
   "execution_count": 25,
   "metadata": {},
   "outputs": [],
   "source": [
    "assert eq_m(cov_m(x,y), np.cov(x,y,ddof=0))"
   ]
  },
  {
   "cell_type": "markdown",
   "metadata": {},
   "source": [
    "### Covariance Matrix as a linear transformation\n",
    "\n",
    "Great article on this: https://www.visiondummy.com/2014/04/geometric-interpretation-covariance-matrix/"
   ]
  },
  {
   "cell_type": "code",
   "execution_count": 26,
   "metadata": {},
   "outputs": [],
   "source": [
    "cov_matrix = [[5,3],[3,2]]"
   ]
  },
  {
   "cell_type": "code",
   "execution_count": 27,
   "metadata": {},
   "outputs": [
    {
     "data": {
      "text/plain": [
       "<matplotlib.collections.PathCollection at 0x7f8fc50c6198>"
      ]
     },
     "execution_count": 27,
     "metadata": {},
     "output_type": "execute_result"
    },
    {
     "data": {
      "image/png": "[encoded data removed]",
      "text/plain": [
       "<Figure size 432x288 with 1 Axes>"
      ]
     },
     "metadata": {
      "needs_background": "light"
     },
     "output_type": "display_data"
    }
   ],
   "source": [
    "n = np.random.normal(size=(100,2))\n",
    "\n",
    "p = n @ cov_matrix\n",
    "plt.scatter(p[:,0],p[:,1])"
   ]
  },
  {
   "cell_type": "code",
   "execution_count": 31,
   "metadata": {},
   "outputs": [],
   "source": [
    "cov_matrix = [[2,-3],[-3,4]]"
   ]
  },
  {
   "cell_type": "code",
   "execution_count": 32,
   "metadata": {},
   "outputs": [
    {
     "data": {
      "text/plain": [
       "<matplotlib.collections.PathCollection at 0x7f8fc502ca90>"
      ]
     },
     "execution_count": 32,
     "metadata": {},
     "output_type": "execute_result"
    },
    {
     "data": {
      "image/png": "[encoded data removed]",
      "text/plain": [
       "<Figure size 432x288 with 1 Axes>"
      ]
     },
     "metadata": {
      "needs_background": "light"
     },
     "output_type": "display_data"
    }
   ],
   "source": [
    "n = np.random.normal(size=(100,2))\n",
    "\n",
    "p = n @ cov_matrix\n",
    "plt.scatter(p[:,0],p[:,1])"
   ]
  },
  {
   "cell_type": "markdown",
   "metadata": {},
   "source": [
    "## Pearson Correlation Coefficient\n",
    "\n",
    "Is the normalized Covariance.\n",
    "\n",
    "It has a value between +1 and −1, where 1 is total positive linear correlation, 0 is no linear correlation, and −1 is total negative linear correlation"
   ]
  },
  {
   "cell_type": "code",
   "execution_count": 149,
   "metadata": {},
   "outputs": [],
   "source": [
    "def r(x1, x2):\n",
    "    return cov(x1,x2)/(std(x1)*std(x2))"
   ]
  },
  {
   "cell_type": "code",
   "execution_count": 151,
   "metadata": {},
   "outputs": [],
   "source": [
    "assert eq(r(x,y), np.corrcoef(x,y)[0,1])\n",
    "assert eq(r(x,y), np.corrcoef(x,y)[1,0])"
   ]
  }
 ],
 "metadata": {
  "kernelspec": {
   "display_name": "Python 3",
   "language": "python",
   "name": "python3"
  },
  "language_info": {
   "codemirror_mode": {
    "name": "ipython",
    "version": 3
   },
   "file_extension": ".py",
   "mimetype": "text/x-python",
   "name": "python",
   "nbconvert_exporter": "python",
   "pygments_lexer": "ipython3",
   "version": "3.6.9"
  }
 },
 "nbformat": 4,
 "nbformat_minor": 4
}
