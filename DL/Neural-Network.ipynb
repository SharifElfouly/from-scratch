{
 "cells": [
  {
   "cell_type": "markdown",
   "metadata": {},
   "source": [
    "## Neural-Network\n",
    "\n",
    "A very simple feed-forward NN from scratch."
   ]
  },
  {
   "cell_type": "code",
   "execution_count": 1,
   "metadata": {},
   "outputs": [],
   "source": [
    "import numpy as np\n",
    "import scipy.special\n",
    "import matplotlib.pyplot\n",
    "%matplotlib inline"
   ]
  },
  {
   "cell_type": "code",
   "execution_count": 2,
   "metadata": {},
   "outputs": [],
   "source": [
    "class NN:\n",
    "    def __init__(self, i, h, o, lr):\n",
    "        self.i = i\n",
    "        self.h = h\n",
    "        self.h = o\n",
    "        self.lr = lr\n",
    "        self.wh = np.random.normal(0.0, pow(self.i, -0.5), (self.h, self.i))\n",
    "        self.wo = np.random.normal(0.0, pow(self.h, -0.5), (self.o, self.h))\n",
    "        \n",
    "        self.sigmoid = lambda x: scipy.special.expit(x)\n",
    "    \n",
    "    def train(self, x, y):\n",
    "        x = np.array(x, ndmin=2).T\n",
    "        y = np.array(y, ndmin=2).T\n",
    "        hi = np.dot(self.wh, x)\n",
    "        ho = self.sigmoid(hi)\n",
    "        oi = np.dot(self.ho, hi)\n",
    "        oo = self.aktivierungsfunktion(oi)\n",
    "        err = y - oo\n",
    "        h_err = np.dot(self.wo.T, err)\n",
    "        \n",
    "        self.wo += self.lr * np.dot((err * oo * (1.0 - oo)), np.transpose(ho))\n",
    "        self.wh += self.lr * np.dot((h_err * ho * (1.0 - ho)), np.transpose(x))\n",
    "    \n",
    "    def predict(self, x):\n",
    "        x = np.array(x, ndmin=2).T\n",
    "        hi = np.dot(self.wh, x)\n",
    "        ho = self.sigmoid(hi)\n",
    "        oi = np.dot(self.wo, ho)\n",
    "        oo = self.sigmoid(oi)\n",
    "        return oo"
   ]
  }
 ],
 "metadata": {
  "kernelspec": {
   "display_name": "Python 3",
   "language": "python",
   "name": "python3"
  },
  "language_info": {
   "codemirror_mode": {
    "name": "ipython",
    "version": 3
   },
   "file_extension": ".py",
   "mimetype": "text/x-python",
   "name": "python",
   "nbconvert_exporter": "python",
   "pygments_lexer": "ipython3",
   "version": "3.6.9"
  }
 },
 "nbformat": 4,
 "nbformat_minor": 2
}
