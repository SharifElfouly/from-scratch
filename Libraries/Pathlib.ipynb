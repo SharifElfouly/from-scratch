{
 "cells": [
  {
   "cell_type": "markdown",
   "metadata": {},
   "source": [
    "## Pathlib\n",
    "\n",
    "os is such a mess..."
   ]
  },
  {
   "cell_type": "code",
   "execution_count": 1,
   "metadata": {},
   "outputs": [],
   "source": [
    "from pathlib import Path"
   ]
  },
  {
   "cell_type": "code",
   "execution_count": 2,
   "metadata": {},
   "outputs": [
    {
     "data": {
      "text/plain": [
       "PosixPath('/home/sharif/Documents/from-scratch/Libraries')"
      ]
     },
     "execution_count": 2,
     "metadata": {},
     "output_type": "execute_result"
    }
   ],
   "source": [
    "Path.cwd()"
   ]
  },
  {
   "cell_type": "code",
   "execution_count": 5,
   "metadata": {},
   "outputs": [
    {
     "data": {
      "text/plain": [
       "PosixPath('/home/sharif/Documents/from-scratch/Libraries/new')"
      ]
     },
     "execution_count": 5,
     "metadata": {},
     "output_type": "execute_result"
    }
   ],
   "source": [
    "p = Path.cwd() / 'new'\n",
    "p"
   ]
  },
  {
   "cell_type": "code",
   "execution_count": 14,
   "metadata": {},
   "outputs": [],
   "source": [
    "if not p.is_dir(): p.mkdir()"
   ]
  },
  {
   "cell_type": "code",
   "execution_count": 17,
   "metadata": {},
   "outputs": [
    {
     "data": {
      "text/plain": [
       "PosixPath('/home/sharif/Documents/from-scratch/Libraries')"
      ]
     },
     "execution_count": 17,
     "metadata": {},
     "output_type": "execute_result"
    }
   ],
   "source": [
    "p = Path.cwd()\n",
    "p"
   ]
  },
  {
   "cell_type": "code",
   "execution_count": 23,
   "metadata": {},
   "outputs": [
    {
     "name": "stdout",
     "output_type": "stream",
     "text": [
      "Pandas.ipynb\n",
      "Pathlib.ipynb\n",
      "Sympy.ipynb\n",
      "PyTorch\n",
      "Fastai-Vision.ipynb\n",
      "new\n",
      "README.md\n",
      ".ipynb_checkpoints\n",
      "Thinc.ipynb\n"
     ]
    }
   ],
   "source": [
    "for x in p.iterdir(): print(x.name)"
   ]
  },
  {
   "cell_type": "code",
   "execution_count": 25,
   "metadata": {},
   "outputs": [
    {
     "name": "stdout",
     "output_type": "stream",
     "text": [
      "Pandas\n",
      "Pathlib\n",
      "Sympy\n",
      "PyTorch\n",
      "Fastai-Vision\n",
      "new\n",
      "README\n",
      ".ipynb_checkpoints\n",
      "Thinc\n"
     ]
    }
   ],
   "source": [
    "for x in p.iterdir(): print(x.stem)"
   ]
  },
  {
   "cell_type": "code",
   "execution_count": 27,
   "metadata": {},
   "outputs": [
    {
     "name": "stdout",
     "output_type": "stream",
     "text": [
      "Pandas.jpg\n",
      "Pathlib.jpg\n",
      "Sympy.jpg\n",
      "PyTorch.jpg\n",
      "Fastai-Vision.jpg\n",
      "new.jpg\n",
      "README.jpg\n",
      ".ipynb_checkpoints.jpg\n",
      "Thinc.jpg\n"
     ]
    }
   ],
   "source": [
    "for x in p.iterdir(): print(x.stem + '.jpg')"
   ]
  },
  {
   "cell_type": "code",
   "execution_count": 29,
   "metadata": {},
   "outputs": [
    {
     "name": "stdout",
     "output_type": "stream",
     "text": [
      "Pandas.ipynb\n",
      "Pathlib.ipynb\n",
      "Sympy.ipynb\n",
      "Fastai-Vision.ipynb\n",
      "Thinc.ipynb\n"
     ]
    }
   ],
   "source": [
    "for x in p.glob('*.ipynb'): print(x.name)"
   ]
  }
 ],
 "metadata": {
  "kernelspec": {
   "display_name": "Python 3",
   "language": "python",
   "name": "python3"
  },
  "language_info": {
   "codemirror_mode": {
    "name": "ipython",
    "version": 3
   },
   "file_extension": ".py",
   "mimetype": "text/x-python",
   "name": "python",
   "nbconvert_exporter": "python",
   "pygments_lexer": "ipython3",
   "version": "3.6.9"
  }
 },
 "nbformat": 4,
 "nbformat_minor": 4
}
