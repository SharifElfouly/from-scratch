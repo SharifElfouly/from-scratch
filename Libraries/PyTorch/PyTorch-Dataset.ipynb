{
 "cells": [
  {
   "cell_type": "code",
   "execution_count": 55,
   "metadata": {},
   "outputs": [],
   "source": [
    "import torch\n",
    "from torch.utils.data import Dataset, DataLoader, RandomSampler"
   ]
  },
  {
   "cell_type": "code",
   "execution_count": 91,
   "metadata": {},
   "outputs": [],
   "source": [
    "class D(Dataset):\n",
    "    def __init__(self, r):\n",
    "        self.r = r\n",
    "        self.samples = torch.randn((r, 4))\n",
    "    def __len__(self): return self.r\n",
    "    def __getitem__(self, i):\n",
    "        y = self.samples[i][0]\n",
    "        x = self.samples[i][1:]\n",
    "        return x, y"
   ]
  },
  {
   "cell_type": "code",
   "execution_count": 92,
   "metadata": {},
   "outputs": [],
   "source": [
    "ds = D(12)"
   ]
  },
  {
   "cell_type": "code",
   "execution_count": 93,
   "metadata": {},
   "outputs": [],
   "source": [
    "dl = DataLoader(ds, batch_size=3, shuffle=True)"
   ]
  },
  {
   "cell_type": "code",
   "execution_count": 97,
   "metadata": {},
   "outputs": [
    {
     "name": "stdout",
     "output_type": "stream",
     "text": [
      "tensor([[-0.4351,  1.3758, -0.4686],\n",
      "        [ 0.4742, -0.3834, -1.2227],\n",
      "        [-1.9594, -0.2238,  1.2106]])\n",
      "tensor([ 1.5823, -0.4334, -1.2179])\n",
      "tensor([[ 0.4187, -0.8748, -1.4204],\n",
      "        [-1.6338, -0.0729, -0.3740],\n",
      "        [-0.0270, -0.1134,  0.8010]])\n",
      "tensor([ 0.3442, -0.1989,  0.6043])\n",
      "tensor([[ 0.9224, -0.5593, -1.5377],\n",
      "        [-0.6700,  0.7551, -0.7012],\n",
      "        [-0.2725, -1.8981,  0.2129]])\n",
      "tensor([ 0.5454, -0.0087,  1.7695])\n",
      "tensor([[-1.0871,  0.3957, -0.4559],\n",
      "        [ 1.3982,  1.5853,  0.0742],\n",
      "        [-0.9206, -0.3769,  0.9066]])\n",
      "tensor([-0.2117, -1.1051,  1.2205])\n"
     ]
    }
   ],
   "source": [
    "for x, y in dl:\n",
    "    print(x)\n",
    "    print(y)"
   ]
  },
  {
   "cell_type": "code",
   "execution_count": null,
   "metadata": {},
   "outputs": [],
   "source": []
  }
 ],
 "metadata": {
  "kernelspec": {
   "display_name": "Python 3",
   "language": "python",
   "name": "python3"
  },
  "language_info": {
   "codemirror_mode": {
    "name": "ipython",
    "version": 3
   },
   "file_extension": ".py",
   "mimetype": "text/x-python",
   "name": "python",
   "nbconvert_exporter": "python",
   "pygments_lexer": "ipython3",
   "version": "3.6.9"
  }
 },
 "nbformat": 4,
 "nbformat_minor": 4
}
