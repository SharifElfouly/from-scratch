{
 "cells": [
  {
   "cell_type": "markdown",
   "metadata": {},
   "source": [
    "## Logistic Regression\n",
    "\n",
    "Simple classification.\n",
    "\n",
    "It is basically a one-layer NN with one output neuron with a sigmoid as a activation function. It calculates:\n",
    "\n",
    "$p(y=1|x)$\n",
    "\n",
    "if $p >= 0.5$ then y = 1\n",
    "\n",
    "if $p < 0.5$ then y = 0"
   ]
  },
  {
   "cell_type": "code",
   "execution_count": 350,
   "metadata": {},
   "outputs": [],
   "source": [
    "import torch as T\n",
    "import numpy as np\n",
    "from sklearn.datasets import load_iris"
   ]
  },
  {
   "cell_type": "markdown",
   "metadata": {},
   "source": [
    "### Load data\n",
    "\n",
    "I will only use the first 2 classes of the iris dataset to make it a simple binary classification."
   ]
  },
  {
   "cell_type": "code",
   "execution_count": 351,
   "metadata": {},
   "outputs": [
    {
     "name": "stdout",
     "output_type": "stream",
     "text": [
      "(100, 4)\n",
      "(100,)\n"
     ]
    }
   ],
   "source": [
    "X, y = load_iris(return_X_y=True)\n",
    "X = X[:np.where(y == 2)[0][0]]\n",
    "y = y[:np.where(y == 2)[0][0]]\n",
    "print(X.shape)\n",
    "print(y.shape)"
   ]
  },
  {
   "cell_type": "code",
   "execution_count": 352,
   "metadata": {},
   "outputs": [],
   "source": [
    "X = T.Tensor(X)\n",
    "X = (X-X.mean(axis=0))/X.std(axis=0)\n",
    "y = T.Tensor(y)"
   ]
  },
  {
   "cell_type": "markdown",
   "metadata": {},
   "source": [
    "## Log Loss / Binary Cross Entropy Loss\n",
    "\n",
    "$H(p,q)\\ =\\ -\\sum_ip_i\\log q_i\\ =\\ -y\\log\\hat{y} - (1-y)\\log(1-\\hat{y})$"
   ]
  },
  {
   "cell_type": "code",
   "execution_count": 353,
   "metadata": {},
   "outputs": [],
   "source": [
    "def loss(y_hat, y):\n",
    "    return ((-y*T.log(y_hat))-((1-y)*T.log(1-y_hat))).sum()"
   ]
  },
  {
   "cell_type": "code",
   "execution_count": 354,
   "metadata": {},
   "outputs": [],
   "source": [
    "w = T.randn((5,1),requires_grad=True)\n",
    "b = T.zeros((100,1), requires_grad=True)\n",
    "o = T.ones((100,1))\n",
    "X = T.cat([T.Tensor(X), o],axis=1)"
   ]
  },
  {
   "cell_type": "code",
   "execution_count": 355,
   "metadata": {},
   "outputs": [],
   "source": [
    "def sigmoid(x):\n",
    "    return 1 / (1 + T.exp(-x))"
   ]
  },
  {
   "cell_type": "code",
   "execution_count": 356,
   "metadata": {},
   "outputs": [
    {
     "name": "stdout",
     "output_type": "stream",
     "text": [
      "tensor(10585.5889)\n",
      "tensor(10181.9854)\n",
      "tensor(9808.4639)\n",
      "tensor(9466.1670)\n",
      "tensor(9139.4170)\n",
      "tensor(8832.9443)\n",
      "tensor(8547.8906)\n",
      "tensor(8285.1436)\n",
      "tensor(8045.8110)\n",
      "tensor(7831.1392)\n",
      "tensor(7642.2090)\n",
      "tensor(7479.8379)\n",
      "tensor(7344.1660)\n",
      "tensor(7235.6162)\n",
      "tensor(7154.0898)\n",
      "tensor(7087.7095)\n",
      "tensor(7036.6616)\n",
      "tensor(7009.1792)\n",
      "tensor(6974.3169)\n",
      "tensor(6958.0498)\n",
      "tensor(6949.5850)\n",
      "tensor(6953.1567)\n",
      "tensor(6942.5977)\n",
      "tensor(6945.7642)\n",
      "tensor(6939.3979)\n",
      "tensor(6941.7837)\n",
      "tensor(6938.1318)\n",
      "tensor(6939.7710)\n",
      "tensor(6937.7290)\n",
      "tensor(6938.7646)\n",
      "tensor(6937.6787)\n",
      "tensor(6938.2935)\n",
      "tensor(6937.7139)\n",
      "tensor(6938.0762)\n",
      "tensor(6937.7568)\n",
      "tensor(6937.9829)\n",
      "tensor(6937.8003)\n",
      "tensor(6937.9238)\n",
      "tensor(6937.8330)\n",
      "tensor(6937.9014)\n",
      "tensor(6937.8467)\n",
      "tensor(6937.8936)\n",
      "tensor(6937.8525)\n",
      "tensor(6937.8799)\n",
      "tensor(6937.8682)\n",
      "tensor(6937.8730)\n",
      "tensor(6937.8711)\n",
      "tensor(6937.8750)\n",
      "tensor(6937.8711)\n",
      "tensor(6937.8691)\n"
     ]
    }
   ],
   "source": [
    "epochs = 50\n",
    "lr = 1e-2\n",
    "\n",
    "for e in range(epochs):\n",
    "    y_hat = sigmoid(X@w + b)\n",
    "    l = loss(y_hat, y)\n",
    "    print(l.data)\n",
    "    l.backward()\n",
    "    \n",
    "    with T.no_grad():\n",
    "        w -= T.clamp(w.grad, -3.5, 3.5) * lr\n",
    "        b -= T.clamp(b.grad, -3.5, 3.5) * lr\n",
    "        w.grad.zero_()\n",
    "        b.grad.zero_()"
   ]
  },
  {
   "cell_type": "markdown",
   "metadata": {},
   "source": [
    "## It worked! Obviously it overfits but it definetly shows that our math is right."
   ]
  },
  {
   "cell_type": "code",
   "execution_count": 357,
   "metadata": {},
   "outputs": [],
   "source": [
    "y_hat = T.round(sigmoid(X@w + b))"
   ]
  },
  {
   "cell_type": "code",
   "execution_count": 358,
   "metadata": {},
   "outputs": [
    {
     "data": {
      "text/plain": [
       "tensor(0.)"
      ]
     },
     "execution_count": 358,
     "metadata": {},
     "output_type": "execute_result"
    }
   ],
   "source": [
    "(y_hat - y.reshape(100,1)).sum().data"
   ]
  }
 ],
 "metadata": {
  "kernelspec": {
   "display_name": "Python 3",
   "language": "python",
   "name": "python3"
  },
  "language_info": {
   "codemirror_mode": {
    "name": "ipython",
    "version": 3
   },
   "file_extension": ".py",
   "mimetype": "text/x-python",
   "name": "python",
   "nbconvert_exporter": "python",
   "pygments_lexer": "ipython3",
   "version": "3.6.9"
  }
 },
 "nbformat": 4,
 "nbformat_minor": 4
}
