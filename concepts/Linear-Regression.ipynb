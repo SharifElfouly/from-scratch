{
 "cells": [
  {
   "cell_type": "markdown",
   "metadata": {},
   "source": [
    "## Linear Regression\n",
    "\n",
    "Fit a line to your data."
   ]
  },
  {
   "cell_type": "code",
   "execution_count": 129,
   "metadata": {},
   "outputs": [],
   "source": [
    "import numpy as np\n",
    "from numpy.linalg import inv\n",
    "import matplotlib.pyplot as plt"
   ]
  },
  {
   "cell_type": "code",
   "execution_count": 130,
   "metadata": {},
   "outputs": [],
   "source": [
    "n = 50"
   ]
  },
  {
   "cell_type": "code",
   "execution_count": 131,
   "metadata": {},
   "outputs": [],
   "source": [
    "x = np.linspace(0, 10, n)\n",
    "y = 0.2 * x + 2 + np.random.normal(size=(n,))"
   ]
  },
  {
   "cell_type": "code",
   "execution_count": 132,
   "metadata": {},
   "outputs": [
    {
     "data": {
      "text/plain": [
       "<matplotlib.collections.PathCollection at 0x7fb7b291d9e8>"
      ]
     },
     "execution_count": 132,
     "metadata": {},
     "output_type": "execute_result"
    },
    {
     "data": {
      "image/png": "[encoded data removed]",
      "text/plain": [
       "<Figure size 432x288 with 1 Axes>"
      ]
     },
     "metadata": {
      "needs_background": "light"
     },
     "output_type": "display_data"
    }
   ],
   "source": [
    "plt.scatter(x,y)"
   ]
  },
  {
   "cell_type": "code",
   "execution_count": 35,
   "metadata": {},
   "outputs": [],
   "source": [
    "x_hat = x.mean()\n",
    "y_hat = y.mean()\n",
    "x_std = x.std()\n",
    "y_std = y.std()\n",
    "r     = np.corrcoef(x, y)[0,1]"
   ]
  },
  {
   "cell_type": "markdown",
   "metadata": {},
   "source": [
    "The best fit line has a slope of r * ( y_std / x_std ) and must pass through ( x_hat, y_hat )."
   ]
  },
  {
   "cell_type": "code",
   "execution_count": 36,
   "metadata": {},
   "outputs": [],
   "source": [
    "def l(x): return (r *(y_std/x_std)*(x-x_hat)) + y_hat"
   ]
  },
  {
   "cell_type": "code",
   "execution_count": 37,
   "metadata": {},
   "outputs": [],
   "source": [
    "a = np.linspace(0,10,100)"
   ]
  },
  {
   "cell_type": "code",
   "execution_count": 38,
   "metadata": {},
   "outputs": [
    {
     "data": {
      "image/png": "[encoded data removed]",
      "text/plain": [
       "<Figure size 432x288 with 1 Axes>"
      ]
     },
     "metadata": {
      "needs_background": "light"
     },
     "output_type": "display_data"
    }
   ],
   "source": [
    "fig = plt.figure()\n",
    "ax1 = fig.add_subplot(111)\n",
    "\n",
    "ax1.scatter(x,y)\n",
    "ax1.scatter(a, l(a))\n",
    "plt.show()"
   ]
  },
  {
   "cell_type": "markdown",
   "metadata": {},
   "source": [
    "## Ok, this is nice but let's derive it from scratch!"
   ]
  },
  {
   "cell_type": "markdown",
   "metadata": {},
   "source": [
    "### Loss function\n",
    "\n",
    "The loss function describes how good our model is. In this case we can describe the loss as the mean squared distance of all data points to our predicted line.\n",
    "\n",
    "Our model: $y(x) = b_0 + b_1x$\n",
    "\n",
    "Loss function: \n",
    "\n",
    "$\\dfrac{1}{n}\\sum_{n=1}^{N}(y-\\hat{y_i})^2 = \\dfrac{1}{n}\\sum_{n=1}^{N}(y-b_0-b_1x)^2$"
   ]
  },
  {
   "cell_type": "markdown",
   "metadata": {},
   "source": [
    "We now need to find b0 and b1 that minimize this Loss function. For this we need to find the following derivatives and set them to zero. The good thing about our Loss function is that it is quadratic so it is convex and we can find the global minimum.\n",
    "\n",
    "$\\frac{\\partial L}{\\partial b_0},$\n",
    "$\\frac{\\partial L}{\\partial b_1}$"
   ]
  },
  {
   "cell_type": "markdown",
   "metadata": {},
   "source": [
    "## Deriving $b_0$"
   ]
  },
  {
   "cell_type": "markdown",
   "metadata": {},
   "source": [
    "$\\frac{\\partial L}{\\partial b_0} =  \\dfrac{-2}{n}\\sum_{i=1}^{N}(y_i-b_0-b_1x_i)$\n",
    "\n",
    "$0 = \\dfrac{-2}{n}\\sum_{i=1}^{N}(y_i-b_0-b_1x_i)$\n",
    "\n",
    "$0 = \\sum_{i=1}^{N}(y_i-b_0-b_1x_i)$\n",
    "\n",
    "$0 = \\sum_{i=1}^{N}(y_i)-\\sum_{i=1}^{N}(b_0)-b_1\\sum_{i=1}^{N}(x_i)$\n",
    "\n",
    "$0 = \\sum_{i=1}^{N}(y_i)-(b_0*N)-b_1\\sum_{i=1}^{N}(x_i)$\n",
    "\n",
    "$b_0*N = \\sum_{i=1}^{N}(y_i)-b_1\\sum_{i=1}^{N}(x_i)$\n",
    "\n",
    "$b_0 = \\dfrac{\\sum_{i=1}^{N}(y_i)-b_1\\sum_{i=1}^{N}(x_i)}{N}$\n",
    "\n",
    "$b_0 = \\bar{y}-b_1\\bar{x}$"
   ]
  },
  {
   "cell_type": "markdown",
   "metadata": {},
   "source": [
    "## Deriving $b_1$"
   ]
  },
  {
   "cell_type": "markdown",
   "metadata": {},
   "source": [
    "$\\frac{\\partial L}{\\partial b_1} = \\dfrac{-2}{n}\\sum_{i=1}^{N}(y_i-b_0-b_1x_i)*x_i$\n",
    "\n",
    "$0 = \\dfrac{-2}{n}\\sum_{i=1}^{N}(y_i-b_0-b_1x_i)*x_i$\n",
    "\n",
    "$0 = \\sum_{i=1}^{N}(y_i-b_0-b_1x_i)*x_i$\n",
    "\n",
    "$0 = \\sum_{i=1}^{N}(y_ix_i-b_0x_i-b_1x_i^2)$\n",
    "\n",
    "Here we substitute $b_0$\n",
    "\n",
    "$0 = \\sum_{i=1}^{N}(y_ix_i-(\\bar{y}-b_1\\bar{x})x_i-b_1x_i^2)$\n",
    "\n",
    "$0 = \\sum_{i=1}^{N}(y_ix_i-\\bar{y}x_i+b_1\\bar{x}x_i-b_1x_i^2)$\n",
    "\n",
    "\n",
    "$0 = \\sum_{i=1}^{N}(y_ix_i-\\bar{y}x_i)+\\sum_{i=1}^{N}(b_1\\bar{x}x_i-b_1x_i^2)$\n",
    "\n",
    "$0 = \\sum_{i=1}^{N}(y_ix_i-\\bar{y}x_i)-b_1\\sum_{i=1}^{N}(-\\bar{x}x_i+x_i^2)$\n",
    "\n",
    "$b_1\\sum_{i=1}^{N}(-\\bar{x}x_i+x_i^2) = \\sum_{i=1}^{N}(y_ix_i-\\bar{y}x_i)$\n",
    "\n",
    "$b_1 = \\dfrac{\\sum_{i=1}^{N}(y_ix_i-\\bar{y}x_i)}{\\sum_{i=1}^{N}(-\\bar{x}x_i+x_i^2)}$"
   ]
  },
  {
   "cell_type": "markdown",
   "metadata": {},
   "source": [
    "Now we can calculate $b_0$ and $b_1$ and create our model."
   ]
  },
  {
   "cell_type": "code",
   "execution_count": 40,
   "metadata": {},
   "outputs": [],
   "source": [
    "nom = sum(((x*y)-(y_hat*x)))\n",
    "den = sum((np.square(x)-(x_hat*x)))"
   ]
  },
  {
   "cell_type": "code",
   "execution_count": 41,
   "metadata": {},
   "outputs": [],
   "source": [
    "b1 = nom/den\n",
    "b0 = y_hat-(b1*x_hat)"
   ]
  },
  {
   "cell_type": "code",
   "execution_count": 42,
   "metadata": {},
   "outputs": [],
   "source": [
    "def l(x): return b0 + b1*x"
   ]
  },
  {
   "cell_type": "code",
   "execution_count": 43,
   "metadata": {},
   "outputs": [],
   "source": [
    "a = np.linspace(0,10,100)"
   ]
  },
  {
   "cell_type": "code",
   "execution_count": 44,
   "metadata": {},
   "outputs": [
    {
     "data": {
      "image/png": "[encoded data removed]",
      "text/plain": [
       "<Figure size 432x288 with 1 Axes>"
      ]
     },
     "metadata": {
      "needs_background": "light"
     },
     "output_type": "display_data"
    }
   ],
   "source": [
    "fig = plt.figure()\n",
    "ax1 = fig.add_subplot(111)\n",
    "\n",
    "ax1.scatter(x,y)\n",
    "ax1.scatter(a, l(a))\n",
    "plt.show()"
   ]
  },
  {
   "cell_type": "markdown",
   "metadata": {},
   "source": [
    "## Compare our derived Linear Regression with scikit-learn"
   ]
  },
  {
   "cell_type": "code",
   "execution_count": 46,
   "metadata": {},
   "outputs": [],
   "source": [
    "def eq(x1, x2): return np.abs(x1 - x2) < 1e-5"
   ]
  },
  {
   "cell_type": "code",
   "execution_count": 47,
   "metadata": {},
   "outputs": [],
   "source": [
    "from sklearn.linear_model import LinearRegression"
   ]
  },
  {
   "cell_type": "code",
   "execution_count": 48,
   "metadata": {},
   "outputs": [],
   "source": [
    "reg = LinearRegression().fit(x.reshape(-1,1), y)"
   ]
  },
  {
   "cell_type": "code",
   "execution_count": 49,
   "metadata": {},
   "outputs": [],
   "source": [
    "assert eq(reg.coef_, b1)"
   ]
  },
  {
   "cell_type": "code",
   "execution_count": 50,
   "metadata": {},
   "outputs": [],
   "source": [
    "assert eq(reg.intercept_, b0)"
   ]
  },
  {
   "cell_type": "markdown",
   "metadata": {},
   "source": [
    "## The same with Linear Algebra"
   ]
  },
  {
   "cell_type": "code",
   "execution_count": 51,
   "metadata": {},
   "outputs": [],
   "source": [
    "a = np.linspace(0,10,50)\n",
    "\n",
    "v = np.array([b1, b0]).reshape(2,1)\n",
    "o = np.ones(50)\n",
    "X = np.vstack([a, o]).T"
   ]
  },
  {
   "cell_type": "code",
   "execution_count": 52,
   "metadata": {},
   "outputs": [],
   "source": [
    "y_hat = np.dot(X,v)"
   ]
  },
  {
   "cell_type": "code",
   "execution_count": 53,
   "metadata": {},
   "outputs": [
    {
     "data": {
      "image/png": "[encoded data removed]",
      "text/plain": [
       "<Figure size 432x288 with 1 Axes>"
      ]
     },
     "metadata": {
      "needs_background": "light"
     },
     "output_type": "display_data"
    }
   ],
   "source": [
    "fig = plt.figure()\n",
    "ax1 = fig.add_subplot(111)\n",
    "\n",
    "ax1.scatter(x,y)\n",
    "ax1.scatter(a, y_hat)\n",
    "plt.show()"
   ]
  },
  {
   "cell_type": "markdown",
   "metadata": {},
   "source": [
    "## Polynomial Regression\n",
    "\n",
    "Like Linear Regression but y is modelled as an n-th degree polynomial. It's derivation is very easy:\n",
    "\n",
    "$\\mathbf{X} \\hat{ \\beta} = y\\$\n",
    "\n",
    "$\\mathbf{X}^\\mathsf{T}\\mathbf{X} \\hat{ \\beta} = \\mathbf{X}^\\mathsf{T}y \\$\n",
    "\n",
    "$\\hat{ \\beta} = (\\mathbf{X}^\\mathsf{T} \\mathbf{X})^{-1}\\ \\mathbf{X}^\\mathsf{T} \\vec y, \\$"
   ]
  },
  {
   "cell_type": "code",
   "execution_count": 203,
   "metadata": {},
   "outputs": [],
   "source": [
    "x_0 = np.ones(50)\n",
    "x_1 = x\n",
    "x_2 = x**2\n",
    "x_3 = x**3\n",
    "x_4 = y"
   ]
  },
  {
   "cell_type": "code",
   "execution_count": 204,
   "metadata": {},
   "outputs": [],
   "source": [
    "X = np.vstack([x_0,x_1,x_2,x_3,x_4]).T"
   ]
  },
  {
   "cell_type": "code",
   "execution_count": null,
   "metadata": {},
   "outputs": [],
   "source": [
    "b = inv(X.T@X) @ X.T @ y"
   ]
  },
  {
   "cell_type": "code",
   "execution_count": 183,
   "metadata": {},
   "outputs": [],
   "source": [
    "y_hat = X @ b"
   ]
  },
  {
   "cell_type": "code",
   "execution_count": 184,
   "metadata": {},
   "outputs": [
    {
     "data": {
      "image/png": "[encoded data removed]",
      "text/plain": [
       "<Figure size 432x288 with 1 Axes>"
      ]
     },
     "metadata": {
      "needs_background": "light"
     },
     "output_type": "display_data"
    }
   ],
   "source": [
    "fig = plt.figure()\n",
    "ax1 = fig.add_subplot(111)\n",
    "\n",
    "\n",
    "ax1.scatter(x,y)\n",
    "ax1.scatter(a, y_hat)\n",
    "plt.show()"
   ]
  }
 ],
 "metadata": {
  "kernelspec": {
   "display_name": "Python 3",
   "language": "python",
   "name": "python3"
  },
  "language_info": {
   "codemirror_mode": {
    "name": "ipython",
    "version": 3
   },
   "file_extension": ".py",
   "mimetype": "text/x-python",
   "name": "python",
   "nbconvert_exporter": "python",
   "pygments_lexer": "ipython3",
   "version": "3.6.9"
  }
 },
 "nbformat": 4,
 "nbformat_minor": 4
}
