{
 "cells": [
  {
   "cell_type": "markdown",
   "metadata": {},
   "source": [
    "# Entropy\n",
    "\n",
    "Information entropy is the average rate at which information is produced by a stochastic source. But what does that mean exactly?\n",
    "\n",
    "A stochastic source is a random process like a coin flip. Entropy is a measure on how much information we get from this process. But what is information exactly? \n",
    "\n",
    "Information theory defines information as the amount of surprise we get from something. If something happens that has a very low probability of happening (it's surprising) it contains a lot of information. If on the other hand something very probable happens, it doesn't tell us a lot. With this in mind. What event contains more information?\n",
    "\n",
    "1) It is sunny   --> 90%\n",
    "\n",
    "2) It is raining --> 10%\n",
    "\n",
    "Of course event 2 (when it happens) has much more information. How can we encode this mathematically?\n",
    "\n",
    "# Information\n",
    "\n",
    "The information of something is given by its probability, like this:\n",
    "\n",
    "$\\mathrm{I}(p) = -\\log(p)$\n",
    "\n",
    "Lets return to our weather example and calculate the information of each event:"
   ]
  },
  {
   "cell_type": "code",
   "execution_count": 1,
   "metadata": {},
   "outputs": [],
   "source": [
    "from math import log2"
   ]
  },
  {
   "cell_type": "code",
   "execution_count": 2,
   "metadata": {},
   "outputs": [],
   "source": [
    "p_sunny   = 0.9\n",
    "p_raining = 0.1"
   ]
  },
  {
   "cell_type": "code",
   "execution_count": 4,
   "metadata": {},
   "outputs": [
    {
     "data": {
      "text/plain": [
       "0.15200309344504997"
      ]
     },
     "execution_count": 4,
     "metadata": {},
     "output_type": "execute_result"
    }
   ],
   "source": [
    "-log2(p_sunny)"
   ]
  },
  {
   "cell_type": "code",
   "execution_count": 5,
   "metadata": {},
   "outputs": [
    {
     "data": {
      "text/plain": [
       "3.321928094887362"
      ]
     },
     "execution_count": 5,
     "metadata": {},
     "output_type": "execute_result"
    }
   ],
   "source": [
    "-log2(p_raining)"
   ]
  },
  {
   "cell_type": "markdown",
   "metadata": {},
   "source": [
    "As we expected the more probable event contains less information.\n",
    "\n",
    "After we defined the information function we can come back to **entropy**. It is simply defined as the average amount of information of a random process. And its defined like this:\n",
    "\n",
    "$\mathrm S = - \\sum_i P_i\\log{P_i} = -\\operatorname{E}_P[\\log P]$\n",
    "\n",
    "In our weather case entropy is simply this:"
   ]
  },
  {
   "cell_type": "code",
   "execution_count": 9,
   "metadata": {},
   "outputs": [],
   "source": [
    "entropy = (p_sunny * log2(p_sunny)) + (p_raining * log2(p_raining))"
   ]
  },
  {
   "cell_type": "code",
   "execution_count": 10,
   "metadata": {},
   "outputs": [
    {
     "data": {
      "text/plain": [
       "0.4689955935892812"
      ]
     },
     "execution_count": 10,
     "metadata": {},
     "output_type": "execute_result"
    }
   ],
   "source": [
    "-entropy"
   ]
  },
  {
   "cell_type": "markdown",
   "metadata": {},
   "source": [
    "0.47 is the average amount of information we get from this random process. We can make this process much more random though. Lets say you live in London and these are your probabilities:"
   ]
  },
  {
   "cell_type": "code",
   "execution_count": 14,
   "metadata": {},
   "outputs": [],
   "source": [
    "P_sunny   = 0.5\n",
    "p_raining = 0.5"
   ]
  },
  {
   "cell_type": "markdown",
   "metadata": {},
   "source": [
    "This should have a higher entropy because the surprise it on average bigger:"
   ]
  },
  {
   "cell_type": "code",
   "execution_count": 15,
   "metadata": {},
   "outputs": [],
   "source": [
    "entropy = (p_sunny * log2(p_sunny)) + (p_raining * log2(p_raining))"
   ]
  },
  {
   "cell_type": "code",
   "execution_count": 16,
   "metadata": {},
   "outputs": [
    {
     "data": {
      "text/plain": [
       "0.636802784100545"
      ]
     },
     "execution_count": 16,
     "metadata": {},
     "output_type": "execute_result"
    }
   ],
   "source": [
    "-entropy"
   ]
  },
  {
   "cell_type": "markdown",
   "metadata": {},
   "source": [
    "And it is. "
   ]
  }
 ],
 "metadata": {
  "kernelspec": {
   "display_name": "Python 3",
   "language": "python",
   "name": "python3"
  },
  "language_info": {
   "codemirror_mode": {
    "name": "ipython",
    "version": 3
   },
   "file_extension": ".py",
   "mimetype": "text/x-python",
   "name": "python",
   "nbconvert_exporter": "python",
   "pygments_lexer": "ipython3",
   "version": "3.7.4"
  }
 },
 "nbformat": 4,
 "nbformat_minor": 2
}
