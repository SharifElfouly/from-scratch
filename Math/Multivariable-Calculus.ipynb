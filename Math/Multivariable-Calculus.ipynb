{
 "cells": [
  {
   "cell_type": "markdown",
   "metadata": {},
   "source": [
    "## Multivariable Calculus\n",
    "\n",
    "One variable functions are boring!\n",
    "\n",
    "The 3blue1brown guy:\n",
    "https://www.youtube.com/watch?v=TrcCbdWwCBc&list=PLSQl0a2vh4HC5feHa6Rc5c0wbRTx56nF7 "
   ]
  },
  {
   "cell_type": "code",
   "execution_count": 7,
   "metadata": {},
   "outputs": [],
   "source": [
    "from IPython.display import Image\n",
    "from IPython.core.display import HTML"
   ]
  },
  {
   "cell_type": "markdown",
   "metadata": {},
   "source": [
    "### Scalar Field\n",
    "\n",
    "Associates a scalar value to every point in a space.\n",
    "\n",
    "This is a scalar field:\n",
    "\n",
    "$f(x,y) = x^2 + y$"
   ]
  },
  {
   "cell_type": "code",
   "execution_count": 9,
   "metadata": {},
   "outputs": [
    {
     "data": {
      "text/html": [
       "<img src=\"https://www.researchgate.net/profile/Miguel_Negrao/publication/229038491/figure/fig4/AS:300840888881156@1448737465473/An-example-of-a-scalar-field-used-in-the-Sine-Field-system.png\"/>"
      ],
      "text/plain": [
       "<IPython.core.display.Image object>"
      ]
     },
     "execution_count": 9,
     "metadata": {},
     "output_type": "execute_result"
    }
   ],
   "source": [
    "Image(url=\"https://www.researchgate.net/profile/Miguel_Negrao/publication/229038491/figure/fig4/AS:300840888881156@1448737465473/An-example-of-a-scalar-field-used-in-the-Sine-Field-system.png\")"
   ]
  },
  {
   "cell_type": "markdown",
   "metadata": {},
   "source": [
    "### Vector Field\n",
    "\n",
    "Associates a vector to every point in a space.\n",
    "\n",
    "This is a vector field:\n",
    "\n",
    "$f(x,y) = [x^2, y]$"
   ]
  },
  {
   "cell_type": "code",
   "execution_count": 10,
   "metadata": {},
   "outputs": [
    {
     "data": {
      "text/html": [
       "<img src=\"https://upload.wikimedia.org/wikipedia/commons/thumb/b/b9/VectorField.svg/250px-VectorField.svg.png\"/>"
      ],
      "text/plain": [
       "<IPython.core.display.Image object>"
      ]
     },
     "execution_count": 10,
     "metadata": {},
     "output_type": "execute_result"
    }
   ],
   "source": [
    "Image(url=\"https://upload.wikimedia.org/wikipedia/commons/thumb/b/b9/VectorField.svg/250px-VectorField.svg.png\")"
   ]
  },
  {
   "cell_type": "markdown",
   "metadata": {},
   "source": [
    "### Partial Derivative\n",
    "\n",
    "A partial derivative of a function of several variables is its derivative with respect to one of those variables, with the others held constant.\n",
    "\n",
    "Example:\n",
    "\n",
    "$f(x,y) = x^2 + y$\n",
    "\n",
    "Then the derivative with respect to $x$ or $\\frac{\\partial f}{\\partial x}$ is:\n",
    "\n",
    "$\\frac{\\partial f}{\\partial x} = 2x$"
   ]
  },
  {
   "cell_type": "markdown",
   "metadata": {},
   "source": [
    "### Gradient\n",
    "\n",
    "The gradient of a scalar-valued multivariable function  ∇f packages all its partial derivative information into a vector.\n",
    "\n",
    "For the example above:\n",
    "\n",
    "$∇f = [\\frac{\\partial f}{\\partial x}, \\frac{\\partial f}{\\partial y}]$\n",
    "\n",
    "The gradient is a vector; it points in the direction of steepest ascent."
   ]
  },
  {
   "cell_type": "markdown",
   "metadata": {},
   "source": [
    "### Directional derivative\n",
    "\n",
    "The derivative in the direction of a vector. \n",
    "If you move in that vector direction what happens to the output?\n",
    "\n",
    "The directional derivative is a scalar; it is the rate of change when a point moves in that direction. \n",
    "\n",
    "Definition:\n",
    "\n",
    "The directional derivative of a scalar function\n",
    "\n",
    "${\\displaystyle f(\\mathbf {x} )=f(x_{1},x_{2},\\ldots ,x_{n})}$\n",
    "\n",
    "along a vector \n",
    "\n",
    "${\\displaystyle \\mathbf {v} =(v_{1},\\ldots ,v_{n})}$\n",
    "\n",
    "is\n",
    "\n",
    "${\\displaystyle \\nabla _{\\mathbf {v} }{f}(\\mathbf {x} )=\\lim _{h\\rightarrow 0}{\\frac {f(\\mathbf {x} +h\\mathbf {v} )-f(\\mathbf {x} )}{h}}.}$\n",
    "\n",
    "or \n",
    "\n",
    "${\\displaystyle \\nabla _{\\mathbf {v} }{f}(\\mathbf {x} )=\\nabla f(\\mathbf {x} )\\cdot \\mathbf {v} }$ | This is a dot product."
   ]
  }
 ],
 "metadata": {
  "kernelspec": {
   "display_name": "Python 3",
   "language": "python",
   "name": "python3"
  },
  "language_info": {
   "codemirror_mode": {
    "name": "ipython",
    "version": 3
   },
   "file_extension": ".py",
   "mimetype": "text/x-python",
   "name": "python",
   "nbconvert_exporter": "python",
   "pygments_lexer": "ipython3",
   "version": "3.6.9"
  }
 },
 "nbformat": 4,
 "nbformat_minor": 4
}
