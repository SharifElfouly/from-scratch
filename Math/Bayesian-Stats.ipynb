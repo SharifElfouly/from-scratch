{
 "cells": [
  {
   "cell_type": "code",
   "execution_count": 1,
   "metadata": {},
   "outputs": [],
   "source": [
    "import numpy as np"
   ]
  },
  {
   "cell_type": "markdown",
   "metadata": {},
   "source": [
    "from http://www.greenteapress.com/thinkbayes/thinkbayes.pdf"
   ]
  },
  {
   "cell_type": "markdown",
   "metadata": {},
   "source": [
    "## 1. Bayes's Theorem"
   ]
  },
  {
   "cell_type": "markdown",
   "metadata": {
    "jupyter": {
     "source_hidden": true
    }
   },
   "source": [
    "## 1.1 Conditional Prob\n",
    "\n",
    "A conditional prob is a prob based on some background info. \n",
    "\n",
    "$P(A|B)$, Prob A given B.\n",
    "\n",
    "## 1.2 Cojoint Prob\n",
    "\n",
    "Fancy way to say the prob that two things are true.\n",
    "\n",
    "$P(A,B)$\n",
    "\n",
    "$P(A,B) = P(A)P(B|A)$\n",
    "\n",
    "If A and B are independent:\n",
    "\n",
    "$P(A,B) = P(A)*P(B)$\n",
    "\n",
    "## 1.3 Bayes Theorem\n",
    "\n",
    "Lets derive it from 1.1 and 1.2. We know that:\n",
    "\n",
    "$P(A,B)=P(B,A)$\n",
    "\n",
    "$P(A,B) = P(A)P(B|A)$\n",
    "\n",
    "$P(B,A) = P(B)P(A|B)$\n",
    "\n",
    "then:\n",
    "\n",
    "$P(A)P(B|A) = P(B)P(A|B)$ | Lets divide by $P(B|A)\n",
    "\n",
    "=> $P(B|A) = \\dfrac{P(B)P(A|B)}{P(A)}$"
   ]
  },
  {
   "cell_type": "markdown",
   "metadata": {
    "jupyter": {
     "source_hidden": true
    }
   },
   "source": [
    "## 1.4 The diachronic interpretation\n",
    "\n",
    "Another way to think about BT is that it gives us a way to update the prob of a hypothesis H in light of some data D.\n",
    "\n",
    "Btw \"Diachronic\" means that something is happening over time.\n",
    "\n",
    "$P(H|D) = \\dfrac{P(H)P(D|H)}{P(D)}$\n",
    "\n",
    "- **prior** p(H):  Prob of Hypothesis before we see the data.\n",
    "- **posterior** p(H|D):  Prob of Hypothesis after we see the data.\n",
    "- **likelihood** p(D|H): Prob of the data under the hypothesis.\n",
    "- **normalizing costant** p(D): Prob of the data under any hypothesis."
   ]
  },
  {
   "cell_type": "markdown",
   "metadata": {},
   "source": [
    "## 2. Computational Stats"
   ]
  },
  {
   "cell_type": "markdown",
   "metadata": {
    "jupyter": {
     "source_hidden": true
    }
   },
   "source": [
    "## 2.1 Distributions"
   ]
  },
  {
   "cell_type": "code",
   "execution_count": 2,
   "metadata": {
    "jupyter": {
     "source_hidden": true
    }
   },
   "outputs": [],
   "source": [
    "from thinkbayes import Pmf"
   ]
  },
  {
   "cell_type": "code",
   "execution_count": 3,
   "metadata": {
    "jupyter": {
     "source_hidden": true
    }
   },
   "outputs": [],
   "source": [
    "pmf = Pmf()\n",
    "for x in [1,2,3,4,5,6]:\n",
    "    pmf.Set(x, 1/6)"
   ]
  },
  {
   "cell_type": "code",
   "execution_count": 11,
   "metadata": {
    "jupyter": {
     "source_hidden": true
    }
   },
   "outputs": [],
   "source": [
    "pmf = Pmf()\n",
    "pmf.Set('Bowl 1', 0.5)\n",
    "pmf.Set('Bowl 2', 0.5)"
   ]
  },
  {
   "cell_type": "code",
   "execution_count": 12,
   "metadata": {
    "jupyter": {
     "source_hidden": true
    }
   },
   "outputs": [],
   "source": [
    "pmf.Mult('Bowl 1', 0.75)\n",
    "pmf.Mult('Bowl 2', 0.5)\n",
    "pmf.Normalize();"
   ]
  },
  {
   "cell_type": "code",
   "execution_count": 13,
   "metadata": {
    "collapsed": true,
    "jupyter": {
     "outputs_hidden": true
    }
   },
   "outputs": [
    {
     "data": {
      "text/plain": [
       "0.6000000000000001"
      ]
     },
     "execution_count": 13,
     "metadata": {},
     "output_type": "execute_result"
    }
   ],
   "source": [
    "pmf.Prob('Bowl 1')"
   ]
  }
 ],
 "metadata": {
  "kernelspec": {
   "display_name": "Python 3",
   "language": "python",
   "name": "python3"
  },
  "language_info": {
   "codemirror_mode": {
    "name": "ipython",
    "version": 3
   },
   "file_extension": ".py",
   "mimetype": "text/x-python",
   "name": "python",
   "nbconvert_exporter": "python",
   "pygments_lexer": "ipython3",
   "version": "3.6.9"
  }
 },
 "nbformat": 4,
 "nbformat_minor": 4
}
